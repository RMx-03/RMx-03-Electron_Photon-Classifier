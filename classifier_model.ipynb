{
 "cells": [
  {
   "cell_type": "markdown",
   "metadata": {},
   "source": [
    "# ELECTORN/PHOTON CLASSIFICATION USING ResNet-15"
   ]
  },
  {
   "cell_type": "markdown",
   "metadata": {},
   "source": []
  },
  {
   "cell_type": "markdown",
   "metadata": {},
   "source": [
    "### REQUIRED LIBRARIES"
   ]
  },
  {
   "cell_type": "code",
   "execution_count": 7,
   "metadata": {},
   "outputs": [],
   "source": [
    "import numpy as np\n",
    "import h5py\n",
    "import torch\n",
    "import torch.nn as nn\n",
    "import torch.optim as optim\n",
    "import torchvision.transforms as transforms\n",
    "import matplotlib.pyplot as plt\n",
    "from torch.utils.data import DataLoader, Dataset\n",
    "from sklearn.model_selection import train_test_split\n",
    "from torchsummary import summary"
   ]
  },
  {
   "cell_type": "markdown",
   "metadata": {},
   "source": [
    "### LOADING THE DATASET"
   ]
  },
  {
   "cell_type": "code",
   "execution_count": 8,
   "metadata": {},
   "outputs": [
    {
     "name": "stdout",
     "output_type": "stream",
     "text": [
      "['X', 'y']\n",
      "['X', 'y']\n"
     ]
    }
   ],
   "source": [
    "# electron dataset\n",
    "electron_file = h5py.File(\"SingleElectronPt50_IMGCROPS_n249k_RHv1.hdf5\", \"r\")  # open the file in read mode \n",
    "print(list(electron_file.keys()))  # list available datasets\n",
    "\n",
    "# photon dataset\n",
    "photon_file = h5py.File(\"SinglePhotonPt50_IMGCROPS_n249k_RHv1.hdf5\", \"r\")\n",
    "print(list(photon_file.keys()))  "
   ]
  },
  {
   "cell_type": "code",
   "execution_count": null,
   "metadata": {},
   "outputs": [
    {
     "name": "stdout",
     "output_type": "stream",
     "text": [
      "Electron dataset shape: (249000, 32, 32, 2) (249000,)\n",
      "Photon dataset shape: (249000, 32, 32, 2) (249000,)\n"
     ]
    }
   ],
   "source": [
    "# extraction of image data and labels\n",
    "\n",
    "with electron_file as f:\n",
    "    X_electron = np.array(f[\"X\"])  # images\n",
    "    y_electron = np.array(f[\"y\"])  # labels\n",
    "\n",
    "with photon_file as f:\n",
    "    X_photon = np.array(f[\"X\"])  \n",
    "    y_photon = np.array(f[\"y\"]) "
   ]
  },
  {
   "cell_type": "markdown",
   "metadata": {},
   "source": [
    "### INSPECTING THE DATASET"
   ]
  },
  {
   "cell_type": "code",
   "execution_count": 11,
   "metadata": {},
   "outputs": [
    {
     "name": "stdout",
     "output_type": "stream",
     "text": [
      "Electron dataset shape: (249000, 32, 32, 2) (249000,)\n",
      "Photon dataset shape: (249000, 32, 32, 2) (249000,)\n"
     ]
    }
   ],
   "source": [
    "# Print the shape of the datasets\n",
    "print(\"Electron dataset shape:\", X_electron.shape, y_electron.shape)\n",
    "print(\"Photon dataset shape:\", X_photon.shape, y_photon.shape)"
   ]
  },
  {
   "cell_type": "code",
   "execution_count": 12,
   "metadata": {},
   "outputs": [
    {
     "name": "stdout",
     "output_type": "stream",
     "text": [
      "Electron dataset data type: float32 float32\n",
      "Photon dataset data type: float32 float32\n"
     ]
    }
   ],
   "source": [
    "# Print the  data types\n",
    "print(\"Electron dataset data type:\", X_electron.dtype, y_electron.dtype)\n",
    "print(\"Photon dataset data type:\", X_photon.dtype, y_photon.dtype)"
   ]
  },
  {
   "cell_type": "code",
   "execution_count": 14,
   "metadata": {},
   "outputs": [
    {
     "name": "stdout",
     "output_type": "stream",
     "text": [
      "Electron label distribution: (array([1.], dtype=float32), array([249000], dtype=int64))\n",
      "Photon label distribution: (array([0.], dtype=float32), array([249000], dtype=int64))\n"
     ]
    }
   ],
   "source": [
    "# Label Distribution\n",
    "print(\"Electron label distribution:\", np.unique(y_electron, return_counts=True))\n",
    "print(\"Photon label distribution:\", np.unique(y_photon, return_counts=True))"
   ]
  },
  {
   "cell_type": "markdown",
   "metadata": {},
   "source": [
    "Notes: \n",
    "    - Sample size total: 498,000 with a ratio of 1:1 for e:p, so the dataset is balanced.\n",
    "    - Image Format: 32X32 with 2 channels\n",
    "                - Channel 1: Hit energy (X[:, :, :, 0])\n",
    "                - Channel 2: Hit time (X[:, :, :, 1])\n",
    "    - Labels: \n",
    "        - Electrons: 1\n",
    "        - Photons: 0\n",
    "    "
   ]
  },
  {
   "cell_type": "markdown",
   "metadata": {},
   "source": [
    "### VISUALIZING SOME SAMPLES"
   ]
  },
  {
   "cell_type": "code",
   "execution_count": null,
   "metadata": {},
   "outputs": [
    {
     "data": {
      "image/png": "[encoded data removed]",
      "text/plain": [
       "<Figure size 800x400 with 2 Axes>"
      ]
     },
     "metadata": {},
     "output_type": "display_data"
    },
    {
     "data": {
      "image/png": "[encoded data removed]",
      "text/plain": [
       "<Figure size 800x400 with 2 Axes>"
      ]
     },
     "metadata": {},
     "output_type": "display_data"
    }
   ],
   "source": [
    "def plot_sample(data, title, index=0):\n",
    "    energy = data[index, :, :, 0]  # First Channel (energy)\n",
    "    time = data[index, :, :, 1]  # Second Channel (time)\n",
    "\n",
    "    fig, ax = plt.subplots(1, 2, figsize=(8, 4))\n",
    "    ax[0].imshow(energy, cmap=\"viridis\")\n",
    "    ax[0].set_title(f\"{title} - Energy\")\n",
    "    ax[1].imshow(time, cmap=\"magma\")\n",
    "    ax[1].set_title(f\"{title} - Time\")\n",
    "    plt.show()\n",
    "\n",
    "plot_sample(X_electron, \"Electron Sample\", index=0)\n",
    "plot_sample(X_photon, \"Photon Sample\", index=0)"
   ]
  },
  {
   "cell_type": "code",
   "execution_count": null,
   "metadata": {},
   "outputs": [],
   "source": []
  }
 ],
 "metadata": {
  "kernelspec": {
   "display_name": "Python 3",
   "language": "python",
   "name": "python3"
  },
  "language_info": {
   "codemirror_mode": {
    "name": "ipython",
    "version": 3
   },
   "file_extension": ".py",
   "mimetype": "text/x-python",
   "name": "python",
   "nbconvert_exporter": "python",
   "pygments_lexer": "ipython3",
   "version": "3.11.5"
  }
 },
 "nbformat": 4,
 "nbformat_minor": 2
}
